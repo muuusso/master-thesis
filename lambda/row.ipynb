{
 "cells": [
  {
   "cell_type": "code",
   "execution_count": 2,
   "id": "a79febf8",
   "metadata": {},
   "outputs": [],
   "source": [
    "import matplotlib.pyplot as plt\n",
    "from numba import njit\n",
    "from numba.typed import List\n",
    "import numpy as np\n",
    "from scipy.optimize import curve_fit"
   ]
  },
  {
   "cell_type": "code",
   "execution_count": 3,
   "id": "40397eac",
   "metadata": {},
   "outputs": [],
   "source": [
    "Id = np.array([[1., 0.],\n",
    "               [0., 1.]])\n",
    "\n",
    "Z = np.array([[1., 0.],\n",
    "              [0., -1.]])\n",
    "\n",
    "X = np.array([[0., 1.],\n",
    "              [1., 0.]])\n",
    "\n",
    "@njit\n",
    "def tp(A):\n",
    "    prod = np.kron(A[0], A[1])\n",
    "    for a in A[2:]:\n",
    "        prod = np.kron(prod, a)\n",
    "    return prod\n",
    "\n",
    "\n",
    "tp(List([Id, Id, Id]));"
   ]
  },
  {
   "cell_type": "code",
   "execution_count": 4,
   "id": "2a738e56",
   "metadata": {},
   "outputs": [],
   "source": [
    "def Ha(ns, W=None, A=50):\n",
    "    # ns := # of squares in the graph\n",
    "    N = 4 + 3*(ns - 1)\n",
    "    \n",
    "    IdN = np.eye(2**N)\n",
    "    s_z = [tp(List((i)*[Id] + [Z] + (N-i-1)*[Id])) for i in range(N)]\n",
    "\n",
    "    Hs = A/4 * (2*IdN + 2*s_z[0].dot(s_z[ns]))\n",
    "    Ht = A/4 * (2*IdN + 2*s_z[N-1].dot(s_z[2*ns]))\n",
    "    \n",
    "    Hij = np.zeros(IdN.shape)\n",
    "    \n",
    "    # source and tagert horizontal edges\n",
    "    Hij += IdN - s_z[0].dot(s_z[1] + s_z[ns+1]) - 2*s_z[0]\n",
    "    Hij += IdN - s_z[N-1].dot(s_z[2*ns-1] + s_z[N-2]) - 2*s_z[N-1]\n",
    "\n",
    "    # horizontal corner edges\n",
    "    Hij += 2*IdN + s_z[ns-1].dot(s_z[2*ns-1] - s_z[ns-2] - s_z[2*ns]) + 2*s_z[ns-1]\n",
    "    Hij += 2*IdN + s_z[2*ns+1].dot(s_z[ns+1] - s_z[2*ns+2] - s_z[ns]) + 2*s_z[2*ns+1]\n",
    "    # vertical corner edges\n",
    "    Hij += IdN - s_z[ns].dot(s_z[2*ns+1])\n",
    "    Hij += IdN - s_z[2*ns].dot(s_z[ns-1])\n",
    "    \n",
    "    # lower horizontal internal edges\n",
    "    for i in range(1, ns-1):\n",
    "        Hij += 2*IdN + s_z[i].dot(s_z[i+ns] - s_z[i-1] - s_z[i+ns+1] - s_z[i+1])\n",
    "    # vertical internal edges\n",
    "    for i in range(ns+1, 2*ns):\n",
    "        Hij += 4*IdN + s_z[i].dot(s_z[i-ns] + s_z[i+ns] - s_z[i-ns-1] - s_z[i+ns+1]) + 4*s_z[i]\n",
    "    # higher horizontal internal edges\n",
    "    for i in range(2*ns+2, N-1):\n",
    "        Hij += 2*IdN + s_z[i].dot(s_z[i-ns] - s_z[i-1] - s_z[i-ns-1] - s_z[i+1])\n",
    "\n",
    "    Hij = A/4 * Hij\n",
    "    \n",
    "    HA = Hs + Ht + Hij\n",
    "    \n",
    "    return HA\n",
    "\n",
    "\n",
    "def Hb(ns, W, B=1):\n",
    "    N = 4 + 3*(ns - 1)\n",
    "\n",
    "    IdN = np.eye(2**N)\n",
    "    s_z = [tp(List((i)*[Id] + [Z] + (N-i-1)*[Id])) for i in range(N)]\n",
    "\n",
    "    HB = np.zeros(IdN.shape)\n",
    "    for w, sigma in zip(W, s_z):\n",
    "        HB += B / 2 * w * sigma\n",
    "    HB += B / 2 * np.sum(W) * IdN\n",
    "    \n",
    "    return HB\n",
    "\n",
    "\n",
    "def H0(ns):\n",
    "    N = 4 + (ns - 1)*3\n",
    "    \n",
    "    s_x = [tp(List((i)*[Id] + [X] + (N-i-1)*[Id])) for i in range(N)]\n",
    "    \n",
    "    H = np.zeros(s_x[0].shape)\n",
    "    for j in range(N):\n",
    "        H += -s_x[j]\n",
    "    \n",
    "    return H"
   ]
  },
  {
   "cell_type": "code",
   "execution_count": 328,
   "id": "7a79d2c2",
   "metadata": {},
   "outputs": [],
   "source": [
    "ns = 1\n",
    "N = 4\n",
    "\n",
    "A = 50\n",
    "B = 1\n",
    "    \n",
    "IdN = tp(List([Id for i in range(N)]))\n",
    "s_z = [tp(List((i)*[Id] + [Z] + (N-i-1)*[Id])) for i in range(N)]\n",
    "\n",
    "Hs = A/4 * (2*IdN + 2*s_z[0].dot(s_z[ns]))\n",
    "Ht = A/4 * (2*IdN + 2*s_z[N-1].dot(s_z[N-1-ns]))\n",
    "\n",
    "Hij = A/4 * (2*IdN - 2 * s_z[0].dot(s_z[2]))\n",
    "Hij += A/4 * (2*IdN - 2 * s_z[1].dot(s_z[3]))\n",
    "\n",
    "HA1 = Hs + Ht + Hij"
   ]
  },
  {
   "cell_type": "code",
   "execution_count": 339,
   "id": "5841022e",
   "metadata": {},
   "outputs": [],
   "source": [
    "W = np.random.random(4)"
   ]
  },
  {
   "cell_type": "code",
   "execution_count": 364,
   "id": "cf5bfb73",
   "metadata": {
    "scrolled": true
   },
   "outputs": [
    {
     "name": "stdout",
     "output_type": "stream",
     "text": [
      "[[ 0.          0.0259961   0.0440767   0.00333654  0.00288953]\n",
      " [ 0.          1.8         2.5        -2.5         0.        ]\n",
      " [ 0.          0.          1.8         0.         -2.5       ]\n",
      " [ 0.          0.          0.          1.8         2.5       ]\n",
      " [ 0.          0.          0.          0.          1.8       ]]\n"
     ]
    }
   ],
   "source": [
    "n = 1001\n",
    "ns = 1\n",
    "\n",
    "S = np.linspace(0, 0.2, n)\n",
    "E_app = np.zeros((n, 2))\n",
    "E = np.zeros((n, 2))\n",
    "\n",
    "Hx = H0(ns)\n",
    "HB = Hb(ns, W)\n",
    "Hp = HB + HA1\n",
    "for l, s in enumerate(S):\n",
    "\n",
    "    H = np.zeros((N+1, N+1))\n",
    "    for i in range(N+1):\n",
    "        for j in range(i, N+1):\n",
    "            if i == j:\n",
    "                H[i, j] = 2*(1 - s)\n",
    "            elif i == 0:\n",
    "                H[i, j] = s*W[j-1]/2\n",
    "\n",
    "    H[0, 0] = 0\n",
    "    H[1, 2] = +s * A/2\n",
    "    H[1, 3] = -s * A/2\n",
    "    H[2, 4] = -s * A/2\n",
    "    H[3, 4] = +s * A/2\n",
    "\n",
    "    E_app[l, :] = np.linalg.eigh(H, 'U')[0][:2]\n",
    "    if s == 0.1:\n",
    "        print(H)\n",
    "    \n",
    "    H = (1 - s)*Hx + s*Hp\n",
    "    E[l, :] = np.linalg.eigh(H, 'U')[0][:2]"
   ]
  },
  {
   "cell_type": "code",
   "execution_count": 363,
   "id": "807dfaf8",
   "metadata": {},
   "outputs": [],
   "source": [
    "e, v = np.linalg.eigh(Hp)\n",
    "Df = e[1] - e[0]"
   ]
  },
  {
   "cell_type": "raw",
   "id": "169ae6da",
   "metadata": {},
   "source": [
    "ns = 2\n",
    "N = 4 + 3*(ns - 1)\n",
    "\n",
    "# HA = Ha(ns)\n",
    "# HB = Hb(ns, np.arange(N))\n",
    "\n",
    "Hp = HA + HB\n",
    "e, v = np.linalg.eigh(Hp)\n",
    "Df = e[1] - e[0]\n",
    "\n",
    "s_x = [tp(List((i)*[Id] + [X] + (N-i-1)*[Id])) for i in range(N)]\n",
    "\n",
    "E2 = 0\n",
    "E4 = 0\n",
    "for i in range(N):\n",
    "    y = s_x[i].dot(v[:, :2])\n",
    "    Ey = np.diag(y.T.dot(Hp.dot(y)))\n",
    "    E2 += 1/(e[1] - Ey[1]) - 1/(e[0] - Ey[0])\n",
    "    for j in range(N):\n",
    "        if i != j:\n",
    "            z = s_x[j].dot(v[:, :2])\n",
    "            Ez = np.diag(z.T.dot(Hp.dot(z)))\n",
    "            \n",
    "            zy = s_x[j].dot(y)\n",
    "            Ezy = np.diag(zy.T.dot(Hp.dot(zy)))\n",
    "            E4 += 1/(Ey[1] - e[1])/(e[1] - Ez[1])**2 + 1/(e[1] - Ey[1])/(e[1] - Ez[1])/(e[1] - Ezy[1])\n",
    "            E4 -= 1/(Ey[0] - e[0])/(e[0] - Ez[0])**2 + 1/(e[0] - Ey[0])/(e[0] - Ez[0])/(e[0] - Ezy[0])\n",
    "    \n"
   ]
  },
  {
   "cell_type": "code",
   "execution_count": 349,
   "id": "f60c5e6a",
   "metadata": {
    "scrolled": false
   },
   "outputs": [
    {
     "data": {
      "image/png": "[encoded data removed]",
      "text/plain": [
       "<Figure size 640x480 with 1 Axes>"
      ]
     },
     "metadata": {},
     "output_type": "display_data"
    }
   ],
   "source": [
    "# DE = 3/2 * A\n",
    "# w = np.mean(W)\n",
    "# Ds = np.sqrt((2*(1 - S) - S * DE)**2 + 4 * S**2 * w**2)\n",
    "\n",
    "dE = E[:, 1] - E[:, 0]\n",
    "dE_app = E_app[:, 1] - E_app[:, 0]\n",
    "plt.plot(S, dE, label=\"$\\Delta$\")\n",
    "plt.plot(S, dE_app, label=\"$\\Delta_{{app}}$\")\n",
    "# plt.plot(S, Ds)\n",
    "plt.plot(S, Df*S, label=\"s $\\Delta_f$\")\n",
    "plt.scatter(S[np.argmin(dE)], min(dE), s=50, marker=\"|\", c='r', label=\"$\\Delta_{{min}}$\")\n",
    "plt.ylim([0, 2])\n",
    "plt.legend();"
   ]
  },
  {
   "cell_type": "code",
   "execution_count": 350,
   "id": "df407e03",
   "metadata": {},
   "outputs": [
    {
     "data": {
      "text/plain": [
       "array([-51.99347718])"
      ]
     },
     "execution_count": 350,
     "metadata": {},
     "output_type": "execute_result"
    }
   ],
   "source": [
    "popt, pcov = curve_fit(lambda x, a: a*x + 2, S[:np.argmin(dE_app)], dE_app[:np.argmin(dE_app)], p0=[-1])\n",
    "popt"
   ]
  },
  {
   "cell_type": "code",
   "execution_count": 264,
   "id": "c5f6202e",
   "metadata": {
    "scrolled": true
   },
   "outputs": [
    {
     "name": "stderr",
     "output_type": "stream",
     "text": [
      "/var/folders/5g/2335ntzx51d49vw09x7__6t40000gn/T/ipykernel_6178/3968969856.py:1: RuntimeWarning: divide by zero encountered in divide\n",
      "  S[np.argmin(Df*S + (1-S)**2 / S * E2)]\n"
     ]
    },
    {
     "data": {
      "text/plain": [
       "0.014214214214214215"
      ]
     },
     "execution_count": 264,
     "metadata": {},
     "output_type": "execute_result"
    }
   ],
   "source": [
    "S[np.argmin(Df*S + (1-S)**2 / S * E2)]"
   ]
  },
  {
   "cell_type": "code",
   "execution_count": 286,
   "id": "4e314375",
   "metadata": {},
   "outputs": [
    {
     "name": "stderr",
     "output_type": "stream",
     "text": [
      "/var/folders/5g/2335ntzx51d49vw09x7__6t40000gn/T/ipykernel_6178/2403019841.py:1: RuntimeWarning: divide by zero encountered in divide\n",
      "  (Df*S + (1-S)**2 / S * E2)[np.argmin(dE)]\n"
     ]
    },
    {
     "data": {
      "text/plain": [
       "0.4761131202218118"
      ]
     },
     "execution_count": 286,
     "metadata": {},
     "output_type": "execute_result"
    }
   ],
   "source": [
    "(Df*S + (1-S)**2 / S * E2)[np.argmin(dE)]"
   ]
  },
  {
   "cell_type": "code",
   "execution_count": null,
   "id": "d25f5f7c",
   "metadata": {},
   "outputs": [],
   "source": [
    "Df*S"
   ]
  },
  {
   "cell_type": "code",
   "execution_count": 255,
   "id": "fe828a87",
   "metadata": {
    "scrolled": true
   },
   "outputs": [
    {
     "data": {
      "text/plain": [
       "0.007987094123829948"
      ]
     },
     "execution_count": 255,
     "metadata": {},
     "output_type": "execute_result"
    }
   ],
   "source": [
    "Df*S[np.argmin(np.abs(Df*S - (E_app[:, 1] - E_app[:, 0])))]"
   ]
  },
  {
   "cell_type": "code",
   "execution_count": 156,
   "id": "63cc5a8d",
   "metadata": {
    "scrolled": false
   },
   "outputs": [
    {
     "data": {
      "text/plain": [
       "0.09970314858330837"
      ]
     },
     "execution_count": 156,
     "metadata": {},
     "output_type": "execute_result"
    }
   ],
   "source": [
    "min(dE)"
   ]
  },
  {
   "cell_type": "code",
   "execution_count": 158,
   "id": "5317533d",
   "metadata": {
    "scrolled": true
   },
   "outputs": [
    {
     "data": {
      "text/plain": [
       "0.08864624182263138"
      ]
     },
     "execution_count": 158,
     "metadata": {},
     "output_type": "execute_result"
    }
   ],
   "source": [
    "S[np.argmin(dE)]*Df"
   ]
  },
  {
   "cell_type": "code",
   "execution_count": null,
   "id": "a04aa4aa",
   "metadata": {
    "scrolled": false
   },
   "outputs": [],
   "source": [
    "ns = 5\n",
    "N = 4 + 3*(ns - 1)\n",
    "\n",
    "s_z = [tp(List((i)*[Id] + [Z] + (N-i-1)*[Id])) for i in range(N)]\n",
    "\n",
    "HA = Ha(ns)\n",
    "HB = Hb(ns, W=np.arange(1, N+1))\n",
    "E, v = np.linalg.eigh(HA + HB)\n",
    "\n",
    "for n in range(5):\n",
    "    rep = list()\n",
    "    for i in range(N):\n",
    "        rep.append(v[:, n].dot(s_z[i].dot(v[:, n])))\n",
    "    \n",
    "    rep = map(lambda x: '0' if x == -1 else '1', rep)\n",
    "    print(f'E = {E[n]:6.2f};', end='  ')\n",
    "#     print(int(v[:, n].dot(Hs.dot(v[:, n]))), end=' ')\n",
    "#     print(int(v[:, n].dot(Ht.dot(v[:, n]))), end=' ')\n",
    "#     print(int(v[:, n].dot(Hij.dot(v[:, n]))), end=' ')\n",
    "    print(' '.join(rep), end='  ')\n",
    "    print()"
   ]
  },
  {
   "cell_type": "code",
   "execution_count": 6,
   "id": "27a993f6",
   "metadata": {
    "scrolled": true
   },
   "outputs": [
    {
     "ename": "KeyboardInterrupt",
     "evalue": "",
     "output_type": "error",
     "traceback": [
      "\u001b[0;31m---------------------------------------------------------------------------\u001b[0m",
      "\u001b[0;31mKeyboardInterrupt\u001b[0m                         Traceback (most recent call last)",
      "Cell \u001b[0;32mIn[6], line 25\u001b[0m\n\u001b[1;32m     23\u001b[0m \u001b[38;5;28;01mfor\u001b[39;00m j \u001b[38;5;129;01min\u001b[39;00m \u001b[38;5;28mrange\u001b[39m(avg_steps):\n\u001b[1;32m     24\u001b[0m     W \u001b[38;5;241m=\u001b[39m np\u001b[38;5;241m.\u001b[39mrandom\u001b[38;5;241m.\u001b[39mrandom(N)\n\u001b[0;32m---> 25\u001b[0m     HB \u001b[38;5;241m=\u001b[39m \u001b[43mHb\u001b[49m\u001b[43m(\u001b[49m\u001b[43mns\u001b[49m\u001b[43m,\u001b[49m\u001b[43m \u001b[49m\u001b[43mW\u001b[49m\u001b[38;5;241;43m=\u001b[39;49m\u001b[43mW\u001b[49m\u001b[43m)\u001b[49m\n\u001b[1;32m     27\u001b[0m     H \u001b[38;5;241m=\u001b[39m (\u001b[38;5;241m1\u001b[39m\u001b[38;5;241m-\u001b[39ms)\u001b[38;5;241m*\u001b[39mHint \u001b[38;5;241m+\u001b[39m s\u001b[38;5;241m*\u001b[39m(HA \u001b[38;5;241m+\u001b[39m HB)\n\u001b[1;32m     29\u001b[0m     Ew[j] \u001b[38;5;241m=\u001b[39m np\u001b[38;5;241m.\u001b[39mlinalg\u001b[38;5;241m.\u001b[39meigvalsh(H)[:\u001b[38;5;241m4\u001b[39m]\n",
      "Cell \u001b[0;32mIn[3], line 52\u001b[0m, in \u001b[0;36mHb\u001b[0;34m(ns, W, B)\u001b[0m\n\u001b[1;32m     50\u001b[0m HB \u001b[38;5;241m=\u001b[39m np\u001b[38;5;241m.\u001b[39mzeros(IdN\u001b[38;5;241m.\u001b[39mshape)\n\u001b[1;32m     51\u001b[0m \u001b[38;5;28;01mfor\u001b[39;00m w, sigma \u001b[38;5;129;01min\u001b[39;00m \u001b[38;5;28mzip\u001b[39m(W, s_z):\n\u001b[0;32m---> 52\u001b[0m     HB \u001b[38;5;241m+\u001b[39m\u001b[38;5;241m=\u001b[39m B \u001b[38;5;241m/\u001b[39m \u001b[38;5;241m2\u001b[39m \u001b[38;5;241m*\u001b[39m w \u001b[38;5;241m*\u001b[39m sigma\n\u001b[1;32m     53\u001b[0m HB \u001b[38;5;241m+\u001b[39m\u001b[38;5;241m=\u001b[39m B \u001b[38;5;241m/\u001b[39m \u001b[38;5;241m2\u001b[39m \u001b[38;5;241m*\u001b[39m np\u001b[38;5;241m.\u001b[39msum(W) \u001b[38;5;241m*\u001b[39m IdN\n\u001b[1;32m     55\u001b[0m \u001b[38;5;28;01mreturn\u001b[39;00m HB\n",
      "\u001b[0;31mKeyboardInterrupt\u001b[0m: "
     ]
    }
   ],
   "source": [
    "n = 101\n",
    "S = np.linspace(0, 0.2, n)\n",
    "\n",
    "avg_steps = 100\n",
    "\n",
    "ns_max = 4\n",
    "Sc = np.zeros(ns_max)\n",
    "Dmin = np.zeros(ns_max)\n",
    "for ns in range(1, ns_max + 1):\n",
    "    N = 4 + 3*(ns - 1)\n",
    "    E = np.zeros((n, 4))\n",
    "    \n",
    "    if ns != 1:\n",
    "        HA = Ha(ns)\n",
    "    else:\n",
    "        HA = np.copy(HA1)\n",
    "\n",
    "    Hint = H0(ns)\n",
    "\n",
    "    for i, s in enumerate(S):\n",
    "        \n",
    "        Ew = np.zeros((avg_steps, 4))\n",
    "        for j in range(avg_steps):\n",
    "            W = np.random.random(N)\n",
    "            HB = Hb(ns, W=W)\n",
    "            \n",
    "            H = (1-s)*Hint + s*(HA + HB)\n",
    "\n",
    "            Ew[j] = np.linalg.eigvalsh(H)[:4]\n",
    "        \n",
    "        E[i] = np.mean(Ew, axis=0)\n",
    "    \n",
    "    Sc[ns - 1] = S[np.argmin(np.abs(E[:, 1] - E[:, 0]))]\n",
    "    Dmin[ns - 1] = np.min(np.abs(E[:, 1] - E[:, 0]))\n",
    "    S = np.linspace(0, S[np.argmin(np.abs(E[:, 1] - E[:, 0])) + 1], n)"
   ]
  },
  {
   "cell_type": "code",
   "execution_count": 7,
   "id": "95cbb11e",
   "metadata": {
    "scrolled": false
   },
   "outputs": [
    {
     "data": {
      "image/png": "[encoded data removed]",
      "text/plain": [
       "<Figure size 640x480 with 1 Axes>"
      ]
     },
     "metadata": {},
     "output_type": "display_data"
    }
   ],
   "source": [
    "plt.plot(S, E[:, 0], label='E1')\n",
    "plt.plot(S, E[:, 1], label='E2')\n",
    "\n",
    "plt.xlabel('s', fontsize=13)\n",
    "plt.ylabel('E   ', fontsize=13, rotation='horizontal')\n",
    "plt.title('Avoided-crossing', fontsize=13)\n",
    "plt.legend()\n",
    "plt.grid()"
   ]
  },
  {
   "cell_type": "code",
   "execution_count": 10,
   "id": "16f45dfc",
   "metadata": {},
   "outputs": [
    {
     "name": "stdout",
     "output_type": "stream",
     "text": [
      "CPU times: user 6min 13s, sys: 6.42 s, total: 6min 20s\n",
      "Wall time: 1min 1s\n"
     ]
    }
   ],
   "source": [
    "%%time\n",
    "\n",
    "HB = Hb(ns, W=W)\n",
    "            \n",
    "H = (1-s)*Hint + s*(HA + HB)\n",
    "\n",
    "Ew[j] = np.linalg.eigvalsh(H)[:4]"
   ]
  },
  {
   "cell_type": "code",
   "execution_count": null,
   "id": "bf0fb7c2",
   "metadata": {
    "scrolled": false
   },
   "outputs": [],
   "source": [
    "lambda_c = (1 - Sc) / Sc\n",
    "\n",
    "power_fit = lambda x, a, b, c: a*x**b + c\n",
    "# log_fit = lambda x, a, b, c: a * np.log(x + b) + c\n",
    "\n",
    "x_ = np.arange(1, ns_max+1)*2 + 1\n",
    "x = np.linspace(1, ns_max)*2 + 1\n",
    "\n",
    "plt.scatter(x_, lambda_c, label='data', s=20)\n",
    "\n",
    "popt, pcov = curve_fit(power_fit, x_, lambda_c, maxfev=5000)\n",
    "plt.plot(x, power_fit(x, *popt), label='$a x^b + c$ ', c='tab:orange')\n",
    "print(popt)\n",
    "\n",
    "# popt, pcov = curve_fit(log_fit, x_, lambda_c, maxfev=10000)\n",
    "# plt.plot(x, log_fit(x, *popt), label='$a\\\\ \\\\log(N + b) + c $', c='tab:green')\n",
    "# print(popt)\n",
    "\n",
    "plt.xlabel('N', fontsize=14)\n",
    "plt.ylabel('$\\\\lambda_{c}$   ', fontsize=14, rotation='horizontal')\n",
    "plt.title('Critical lambda scaling', fontsize=14)\n",
    "plt.legend()\n",
    "plt.grid()"
   ]
  },
  {
   "cell_type": "code",
   "execution_count": null,
   "id": "b0afcd50",
   "metadata": {},
   "outputs": [],
   "source": [
    "power_fit = lambda x, a, b, c: a * x**b + c\n",
    "# log_fit = lambda x, a, b, c: a * np.log(x + b) + c\n",
    "\n",
    "x_ = np.arange(1, ns_max+1)*2 + 1\n",
    "x = np.linspace(1, ns_max)*2 + 1\n",
    "\n",
    "plt.scatter(x_, Dmin, label='data', s=20)\n",
    "\n",
    "popt, pcov = curve_fit(power_fit, x_, Dmin, maxfev=5000)\n",
    "plt.plot(x, power_fit(x, *popt), label='$a x^b + c$ ', c='tab:orange')\n",
    "print(popt)\n",
    "\n",
    "# popt, pcov = curve_fit(log_fit, x_[1:], Dmin[1:], maxfev=5000)\n",
    "# plt.plot(x, log_fit(x, *popt), label='log', c='tab:green')\n",
    "# print(popt)\n",
    "\n",
    "plt.xlabel('N', fontsize=14)\n",
    "plt.ylabel('$\\\\Delta_{min}$         ', fontsize=14, rotation='horizontal')\n",
    "plt.legend()\n",
    "plt.grid()"
   ]
  },
  {
   "cell_type": "code",
   "execution_count": 14,
   "id": "d4ae3a63",
   "metadata": {},
   "outputs": [
    {
     "data": {
      "text/plain": [
       "[0, 4, 12, 24, 40, 60, 84, 112, 144, 180]"
      ]
     },
     "execution_count": 14,
     "metadata": {},
     "output_type": "execute_result"
    }
   ],
   "source": [
    "[2*i*(i+1) for i in range(10)]"
   ]
  }
 ],
 "metadata": {
  "kernelspec": {
   "display_name": "Python 3 (ipykernel)",
   "language": "python",
   "name": "python3"
  },
  "language_info": {
   "codemirror_mode": {
    "name": "ipython",
    "version": 3
   },
   "file_extension": ".py",
   "mimetype": "text/x-python",
   "name": "python",
   "nbconvert_exporter": "python",
   "pygments_lexer": "ipython3",
   "version": "3.10.10"
  }
 },
 "nbformat": 4,
 "nbformat_minor": 5
}
