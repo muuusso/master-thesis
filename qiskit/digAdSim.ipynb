{
 "cells": [
  {
   "cell_type": "raw",
   "id": "4191d48e-d95a-4e69-b82d-7bc77d30f844",
   "metadata": {
    "jupyter": {
     "source_hidden": true
    },
    "scrolled": true
   },
   "source": [
    "from qiskit import QuantumCircuit, transpile\n",
    "from qiskit_aer import AerSimulator\n",
    "from qiskit.visualization import plot_histogram\n",
    "\n",
    "# Use Aer's AerSimulator\n",
    "simulator = AerSimulator()\n",
    "\n",
    "# Create a Quantum Circuit acting on the q register\n",
    "circuit = QuantumCircuit(2, 2)\n",
    "\n",
    "# Add a H gate on qubit 0\n",
    "circuit.h(0)\n",
    "\n",
    "# Add a CX (CNOT) gate on control qubit 0 and target qubit 1\n",
    "circuit.cx(0, 1)\n",
    "\n",
    "# Map the quantum measurement to the classical bits\n",
    "circuit.measure([0, 1], [0, 1])\n",
    "\n",
    "# Compile the circuit for the support instruction set (basis_gates)\n",
    "# and topology (coupling_map) of the backend\n",
    "compiled_circuit = transpile(circuit, simulator)\n",
    "\n",
    "# Execute the circuit on the aer simulator\n",
    "job = simulator.run(compiled_circuit, shots=1000)\n",
    "\n",
    "# Grab results from the job\n",
    "result = job.result()\n",
    "\n",
    "# Returns counts\n",
    "counts = result.get_counts(compiled_circuit)\n",
    "print(\"\\nTotal count for 00 and 11 are:\", counts)\n",
    "\n",
    "# Draw the circuit\n",
    "circuit.draw()"
   ]
  },
  {
   "cell_type": "code",
   "execution_count": 1,
   "id": "834c04a6-8ace-4080-a02d-95497e62ed4e",
   "metadata": {
    "scrolled": true
   },
   "outputs": [
    {
     "name": "stdout",
     "output_type": "stream",
     "text": [
      "CPU times: user 3.22 s, sys: 631 ms, total: 3.85 s\n",
      "Wall time: 3.18 s\n",
      "CPU times: user 68.2 ms, sys: 3.48 ms, total: 71.7 ms\n",
      "Wall time: 72.3 ms\n"
     ]
    }
   ],
   "source": [
    "import matplotlib.pyplot as plt\n",
    "import numpy as np\n",
    "from tqdm import tqdm\n",
    "\n",
    "from qiskit import QuantumCircuit, transpile\n",
    "from qiskit.circuit.library import PauliEvolutionGate\n",
    "from qiskit.quantum_info import SparsePauliOp, state_fidelity, Statevector\n",
    "from qiskit_aer import StatevectorSimulator\n",
    "\n",
    "delta_t = 0.2\n",
    "p = 1000\n",
    "\n",
    "N = 4\n",
    "state = QuantumCircuit(N)\n",
    "state.initialize(Statevector.from_label(\"+\"*N))\n",
    "\n",
    "A = 4\n",
    "B = 1\n",
    "\n",
    "W = [0.1, 0.2, 0.3, 0.4]\n",
    "\n",
    "# T = 3*N / (df**2 + (8 * (2 + N + 2*df))/(2 + N + df)**2)\n",
    "\n",
    "# def f(s):\n",
    "#     if s < (2 / (2+N+df)):\n",
    "#         return 1/3 * s * (12 - 6*(2 + N)*s + (2 + N)**2 * s**2) * T / N\n",
    "#     else:\n",
    "#         return 1/3 * (s**3 * df**2 + (8*(2 + N + 2*df))/(2 + N + df)**2) * T / N\n",
    "\n",
    "HA = SparsePauliOp.from_sparse_list([(\"ZZ\", [0, 1], +A/2), \n",
    "                                     (\"ZZ\", [2, 3], +A/2),\n",
    "                                     (\"ZZ\", [0, 2], -A/2),\n",
    "                                     (\"ZZ\", [1, 3], -A/2)],\n",
    "                                    num_qubits=N)\n",
    "\n",
    "HB_opl = [(\"Z\", [i], B*W[i]/2) for i in range(N)]\n",
    "HB = SparsePauliOp.from_sparse_list(HB_opl, num_qubits=N)\n",
    "\n",
    "Hc = HA + HB\n",
    "\n",
    "Hm_opl = [(\"X\", [i], -1) for i in range(N)]\n",
    "Hm = SparsePauliOp.from_sparse_list(Hm_opl, num_qubits=N)\n",
    "\n",
    "for i in range(p+1):\n",
    "    beta_i = (1 - i/p) * delta_t\n",
    "    gamma_i = i/p * delta_t\n",
    "    evolv_Hm = PauliEvolutionGate(Hm, time=beta_i)\n",
    "    evolv_Hc = PauliEvolutionGate(Hc, time=gamma_i)\n",
    "    state.append(evolv_Hm, state.qubits)\n",
    "    state.append(evolv_Hc, state.qubits)\n",
    "    state.save_statevector(label=f\"{i}\")\n",
    "\n",
    "simulator = StatevectorSimulator()\n",
    "%time circ = transpile(state, simulator)\n",
    "\n",
    "%time result = simulator.run(circ).result()"
   ]
  },
  {
   "cell_type": "code",
   "execution_count": 4,
   "id": "4cec367e-c851-4cfe-9b25-a9619ee4946f",
   "metadata": {
    "scrolled": true
   },
   "outputs": [
    {
     "name": "stdout",
     "output_type": "stream",
     "text": [
      "CPU times: user 215 ms, sys: 3.51 ms, total: 218 ms\n",
      "Wall time: 218 ms\n"
     ]
    }
   ],
   "source": [
    "# %%time\n",
    "from qiskit_aer.primitives import Estimator\n",
    "\n",
    "estimator = Estimator(approximation=True, \n",
    "                      backend_options={\"method\":\"statevector\"},\n",
    "                      skip_transpilation=True)\n",
    "\n",
    "\n",
    "circuits, observables = [], []\n",
    "for i in range(p+1):\n",
    "    state = QuantumCircuit(N)\n",
    "    state.set_statevector(result.data()[f\"{i}\"])\n",
    "    circuits.append(state)\n",
    "    observables.append((1-i/p)*Hm + i/p*Hc)\n",
    "\n",
    "%time E = estimator.run(circuits, observables).result().values"
   ]
  },
  {
   "cell_type": "code",
   "execution_count": 5,
   "id": "ee3483ed-df5c-46c3-aeea-e914cfd81b1f",
   "metadata": {},
   "outputs": [
    {
     "data": {
      "image/png": "[encoded data removed]",
      "text/plain": [
       "<Figure size 640x480 with 1 Axes>"
      ]
     },
     "metadata": {},
     "output_type": "display_data"
    }
   ],
   "source": [
    "plt.plot(delta_t*np.arange(p+1), E)\n",
    "plt.grid()"
   ]
  },
  {
   "cell_type": "code",
   "execution_count": 6,
   "id": "25c32b1d-b882-4f62-9274-86daacf1c61a",
   "metadata": {
    "scrolled": true
   },
   "outputs": [
    {
     "data": {
      "text/plain": [
       "(0.9709048476758669, 0.0007203896593022119)"
      ]
     },
     "execution_count": 6,
     "metadata": {},
     "output_type": "execute_result"
    }
   ],
   "source": [
    "f_state = Statevector.from_label(\"1010\")\n",
    "f_circ = QuantumCircuit(N)\n",
    "f_circ.set_statevector(f_state)\n",
    "\n",
    "state_fidelity(result.data()[f\"{p}\"], f_state), 1 - E[-1] / estimator.run(f_circ, Hc).result().values[0]"
   ]
  },
  {
   "cell_type": "code",
   "execution_count": 5,
   "id": "d63c7560-6113-4240-bcf8-26233e143750",
   "metadata": {
    "scrolled": true
   },
   "outputs": [
    {
     "name": "stderr",
     "output_type": "stream",
     "text": [
      "100%|███████████████████████████████████████████| 21/21 [03:05<00:00,  8.81s/it]\n",
      "100%|███████████████████████████████████████████| 21/21 [04:48<00:00, 13.72s/it]\n",
      "100%|███████████████████████████████████████████| 21/21 [06:33<00:00, 18.75s/it]\n",
      "100%|███████████████████████████████████████████| 21/21 [16:44<00:00, 47.85s/it]\n"
     ]
    }
   ],
   "source": [
    "N = 7\n",
    "M = 50\n",
    "\n",
    "A = N\n",
    "B = 1\n",
    "\n",
    "# HA = SparsePauliOp.from_sparse_list([(\"ZZ\", [0, 1], +A/2), \n",
    "#                                      (\"ZZ\", [2, 3], +A/2),\n",
    "#                                      (\"ZZ\", [0, 2], -A/2),\n",
    "#                                      (\"ZZ\", [1, 3], -A/2)],\n",
    "#                                     num_qubits=N)\n",
    "\n",
    "HA = SparsePauliOp.from_sparse_list([(\"ZZ\", [0, 1], +A/2), \n",
    "                                     (\"ZZ\", [5, 6], +A/2),\n",
    "                                     (\"ZZ\", [0, 2], -A/2),\n",
    "                                     (\"ZZ\", [1, 3], -A/2),\n",
    "                                     (\"ZZ\", [1, 4], -A/2),\n",
    "                                     (\"Z\",  [1], -A/2),\n",
    "                                     (\"ZZ\", [2, 3], +A/2),\n",
    "                                     (\"ZZ\", [2, 5], -A/2),\n",
    "                                     (\"Z\",  [2], +A/2),\n",
    "                                     (\"ZZ\", [3, 4], +A/2),\n",
    "                                     (\"ZZ\", [3, 5], -A/2),\n",
    "                                     (\"Z\",  [3], +A),\n",
    "                                     (\"ZZ\", [4, 6], -A/2),\n",
    "                                     (\"Z\",  [4], +A/2),\n",
    "                                     (\"Z\",  [5], -A/2)],\n",
    "                                    num_qubits=N)\n",
    "\n",
    "Hm_opl = [(\"X\", [i], -1) for i in range(N)]\n",
    "Hm = SparsePauliOp.from_sparse_list(Hm_opl, num_qubits=N)\n",
    "\n",
    "simulator = StatevectorSimulator()\n",
    "\n",
    "delta_t = np.arange(1, 22) * 0.01 + 0.24\n",
    "max_fed_app = np.zeros((4, 4))\n",
    "for l, p in enumerate([20, 30, 40, 100]):\n",
    "    overlap = np.zeros((delta_t.shape[0], 2))\n",
    "    approx_ratio = np.zeros((delta_t.shape[0], 2))\n",
    "    for k, dt in enumerate(tqdm(delta_t)):\n",
    "        overlap_M = np.zeros(M)\n",
    "        approx_ratio_M = np.zeros(M)\n",
    "        for j in range(M):\n",
    "            W = np.random.random(N)\n",
    "            HB_opl = [(\"Z\", [i], B*W[i]/2) for i in range(N)]\n",
    "            HB = SparsePauliOp.from_sparse_list(HB_opl, num_qubits=N)\n",
    "    \n",
    "            Hc = HA + HB\n",
    "    \n",
    "            state = QuantumCircuit(N)\n",
    "            state.initialize(Statevector.from_label(\"+\"*N))\n",
    "    \n",
    "            for i in range(p+1):\n",
    "                beta_i = (1 - i/p) * dt\n",
    "                gamma_i = i/p * dt\n",
    "                evolv_Hm = PauliEvolutionGate(Hm, time=beta_i)\n",
    "                evolv_Hc = PauliEvolutionGate(Hc, time=gamma_i)\n",
    "                state.append(evolv_Hm, state.qubits)\n",
    "                state.append(evolv_Hc, state.qubits)\n",
    "            \n",
    "            circ = transpile(state, simulator)\n",
    "            result = simulator.run(circ).result()\n",
    "    \n",
    "            if ((W[0] + W[2] + W[5]) < (W[1] + W[3] + W[5])) and ((W[0] + W[2] + W[5]) < (W[1] + W[4] + W[6])):\n",
    "                f_state = Statevector.from_label(\"1011010\")\n",
    "            elif ((W[1] + W[3] + W[5]) < (W[0] + W[2] + W[5])) and ((W[1] + W[3] + W[5]) < (W[1] + W[4] + W[6])):\n",
    "                f_state = Statevector.from_label(\"1010101\")\n",
    "            else:\n",
    "                f_state = Statevector.from_label(\"0101101\")\n",
    "\n",
    "            f_circ = QuantumCircuit(N)\n",
    "            f_circ.set_statevector(f_state)\n",
    "\n",
    "            approx_circ = QuantumCircuit(N)\n",
    "            approx_circ.set_statevector(result.data()[\"statevector\"])\n",
    "    \n",
    "            overlap_M[j] = state_fidelity(result.data()[\"statevector\"], f_state)\n",
    "            approx_ratio_M[j] = estimator.run(approx_circ, Hc).result().values[0] / estimator.run(f_circ, Hc).result().values[0]\n",
    "        overlap[k] = np.mean(overlap_M), np.std(overlap_M) / np.sqrt(M)\n",
    "        approx_ratio[k] = np.mean(approx_ratio_M), np.std(approx_ratio_M) / np.sqrt(M)\n",
    "    max_fed_app[l] = (np.max(overlap[:, 0]), np.max(approx_ratio[:, 0]), \\\n",
    "                      delta_t[np.argmax(overlap[:, 0])], delta_t[np.argmax(approx_ratio[:, 0])])"
   ]
  },
  {
   "cell_type": "code",
   "execution_count": 6,
   "id": "c789f979-4de3-4bae-9e1b-6e28773a59f0",
   "metadata": {},
   "outputs": [
    {
     "data": {
      "image/png": "[encoded data removed]",
      "text/plain": [
       "<Figure size 640x480 with 1 Axes>"
      ]
     },
     "metadata": {},
     "output_type": "display_data"
    }
   ],
   "source": [
    "plt.errorbar(delta_t, overlap[:, 0], yerr=overlap[:, 1], fmt=\".\", label=\"fed\")\n",
    "plt.errorbar(delta_t, approx_ratio[:, 0], yerr=approx_ratio[:, 1], fmt=\".\", label=\"r\")\n",
    "plt.xlabel(\"$\\Delta t$\", fontsize=14)\n",
    "plt.legend()\n",
    "plt.grid()"
   ]
  },
  {
   "cell_type": "code",
   "execution_count": 7,
   "id": "7298b175-67b8-4ebf-95f1-cfd728ddca6c",
   "metadata": {},
   "outputs": [
    {
     "data": {
      "image/png": "[encoded data removed]",
      "text/plain": [
       "<Figure size 640x480 with 1 Axes>"
      ]
     },
     "metadata": {},
     "output_type": "display_data"
    }
   ],
   "source": [
    "plt.scatter([20, 30, 40, 100],  np.array([20, 30, 40, 100])*max_fed_app[:, 2], label=\"fed\")\n",
    "plt.scatter([20, 30, 40, 100],  np.array([20, 30, 40, 100])*max_fed_app[:, 3], label=\"r\")\n",
    "plt.ylabel(\"$T^*$\", fontsize=14)\n",
    "plt.xlabel(\"p\", fontsize=14, rotation=\"horizontal\")\n",
    "plt.legend()\n",
    "plt.grid()"
   ]
  }
 ],
 "metadata": {
  "kernelspec": {
   "display_name": "Python 3 (ipykernel)",
   "language": "python",
   "name": "python3"
  },
  "language_info": {
   "codemirror_mode": {
    "name": "ipython",
    "version": 3
   },
   "file_extension": ".py",
   "mimetype": "text/x-python",
   "name": "python",
   "nbconvert_exporter": "python",
   "pygments_lexer": "ipython3",
   "version": "3.10.13"
  }
 },
 "nbformat": 4,
 "nbformat_minor": 5
}
