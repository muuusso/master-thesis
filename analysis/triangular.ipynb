{
 "cells": [
  {
   "cell_type": "code",
   "execution_count": null,
   "id": "fbc83af1-ff68-4b01-ab17-382bd6f7fc29",
   "metadata": {},
   "outputs": [],
   "source": [
    "from itertools import islice\n",
    "\n",
    "import matplotlib.pyplot as plt\n",
    "import networkx as nx\n",
    "from networkx.classes.function import path_weight\n",
    "import numpy as np\n",
    "import tqdm\n",
    "from scipy.optimize import curve_fit\n",
    "\n",
    "from networkx.generators.harary_graph import hkn_harary_graph\n",
    "import h5py"
   ]
  },
  {
   "cell_type": "code",
   "execution_count": null,
   "id": "6a1820e6-bfe8-4b9f-9000-cd75c6be6781",
   "metadata": {},
   "outputs": [],
   "source": [
    "from networkx.generators import triangular_lattice_graph\n",
    "\n",
    "G = triangular_lattice_graph(3, 2)\n",
    "print(G.number_of_edges())\n",
    "nx.draw(G, with_labels=True)"
   ]
  },
  {
   "cell_type": "code",
   "execution_count": null,
   "id": "60d1c8be-46b3-4ce7-a1b9-8e0071d6edb2",
   "metadata": {},
   "outputs": [],
   "source": [
    "M = 10000\n",
    "n_max = 30\n",
    "\n",
    "df = np.zeros((n_max+1-2, 2))\n",
    "for n in range(2, n_max+1):\n",
    "    G = triangular_lattice_graph(n, 2)\n",
    "    source = (0, 0)\n",
    "    target = (1, n)\n",
    "    \n",
    "    dfM = np.zeros(M)\n",
    "    for m in tqdm.tqdm(range(M)):\n",
    "        dfM[m] = sp(G, source, target)\n",
    "    df[n-2] = (dfM.mean(), dfM.std(ddof=1) / M**0.5)"
   ]
  },
  {
   "cell_type": "code",
   "execution_count": null,
   "id": "640eb224-d3fd-4bb6-a705-7b828ccb98d8",
   "metadata": {},
   "outputs": [],
   "source": [
    "n_max = 30\n",
    "N = np.zeros(n_max+1 - 2)\n",
    "for n in range(2, n_max+1):\n",
    "    G = triangular_lattice_graph(n, 2)\n",
    "    N[n-2] = G.number_of_edges()\n",
    "    \n",
    "plt.errorbar(N, df[:, 0], yerr=df[:, 1], fmt=\".\", ms=5)\n",
    "\n",
    "f_fit = lambda x, a, b, c: a / (x**b + c)\n",
    "popt, pcov = curve_fit(f_fit, N[1:], df[1:, 0], sigma=df[1:, 1], \n",
    "                       p0=[0.1, 1, 1], bounds=[(0, 0, 0), (np.inf, np.inf, np.inf)])\n",
    "print(*popt)\n",
    "plt.plot(N, f_fit(N, *popt))\n",
    "\n",
    "plt.grid()"
   ]
  }
 ],
 "metadata": {
  "kernelspec": {
   "display_name": "Python 3 (ipykernel)",
   "language": "python",
   "name": "python3"
  },
  "language_info": {
   "codemirror_mode": {
    "name": "ipython",
    "version": 3
   },
   "file_extension": ".py",
   "mimetype": "text/x-python",
   "name": "python",
   "nbconvert_exporter": "python",
   "pygments_lexer": "ipython3",
   "version": "3.10.12"
  }
 },
 "nbformat": 4,
 "nbformat_minor": 5
}
